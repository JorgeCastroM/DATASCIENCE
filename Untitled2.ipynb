{
  "nbformat": 4,
  "nbformat_minor": 0,
  "metadata": {
    "colab": {
      "provenance": [],
      "authorship_tag": "ABX9TyMaLB0b3Nbk6pWh7Jr81CQ5",
      "include_colab_link": true
    },
    "kernelspec": {
      "name": "python3",
      "display_name": "Python 3"
    },
    "language_info": {
      "name": "python"
    }
  },
  "cells": [
    {
      "cell_type": "markdown",
      "metadata": {
        "id": "view-in-github",
        "colab_type": "text"
      },
      "source": [
        "<a href=\"https://colab.research.google.com/github/JorgeCastroM/DATASCIENCE/blob/main/Untitled2.ipynb\" target=\"_parent\"><img src=\"https://colab.research.google.com/assets/colab-badge.svg\" alt=\"Open In Colab\"/></a>"
      ]
    },
    {
      "cell_type": "code",
      "execution_count": 1,
      "metadata": {
        "id": "-9l1XEb6qITt"
      },
      "outputs": [],
      "source": [
        "from math import factorial"
      ]
    },
    {
      "cell_type": "markdown",
      "source": [
        "#Definición de función/lanzamiento_de_moneda"
      ],
      "metadata": {
        "id": "YlSSHCuoqUq3"
      }
    },
    {
      "cell_type": "code",
      "source": [
        "def lanzamiento_de_moneda(n,k):\n",
        "  n_choose_of_n= factorial(n)/(factorial(k)*factorial(n-k))\n",
        "  return n_choose_of_n/2**n"
      ],
      "metadata": {
        "id": "F4jcM_kuq3pA"
      },
      "execution_count": 3,
      "outputs": []
    },
    {
      "cell_type": "code",
      "source": [
        "lanzamiento_de_moneda(5,3)"
      ],
      "metadata": {
        "colab": {
          "base_uri": "https://localhost:8080/"
        },
        "id": "YwaDZldkqPXO",
        "outputId": "732105fe-b9cf-4163-fad0-a2482ed1a0dc"
      },
      "execution_count": 4,
      "outputs": [
        {
          "output_type": "execute_result",
          "data": {
            "text/plain": [
              "0.3125"
            ]
          },
          "metadata": {},
          "execution_count": 4
        }
      ]
    },
    {
      "cell_type": "code",
      "source": [
        "[lanzamiento_de_moneda(5,h) for h in range(6)]"
      ],
      "metadata": {
        "colab": {
          "base_uri": "https://localhost:8080/"
        },
        "id": "a2F9WEwcrsrF",
        "outputId": "b6102a76-ce50-4b03-92fe-758da5b49cba"
      },
      "execution_count": 10,
      "outputs": [
        {
          "output_type": "execute_result",
          "data": {
            "text/plain": [
              "[0.03125, 0.15625, 0.3125, 0.3125, 0.15625, 0.03125]"
            ]
          },
          "metadata": {},
          "execution_count": 10
        }
      ]
    }
  ]
}